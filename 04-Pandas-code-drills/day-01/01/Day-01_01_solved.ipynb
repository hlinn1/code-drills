{
 "cells": [
  {
   "cell_type": "code",
   "execution_count": 1,
   "metadata": {},
   "outputs": [],
   "source": [
    "# import the random module\n",
    "# import the module os\n",
    "# import the module csv\n",
    "\n",
    "import random\n",
    "import os\n",
    "import csv\n",
    "\n",
    "\n",
    "# ---- Defining a function with 2 inputs --------\n",
    "# Define a function called print_info that takes in two variables \"row\" and \"phrase\"\n",
    "# print the following: \"Current info: \", row, \":\", and phrase.\n",
    "def print_info(row, phrase):\n",
    "    print(\"Current info: \" + str(row) + \": \" + phrase)\n",
    "\n",
    "# ---- Defining a function with 2 inputs --------\n",
    "# Define a function called print_prev_info that takes in two variables \"row\" and \"phrase\"\n",
    "# print the following: \"Previous info: \", row, \":\", and phrase.\n",
    "def print_prev_info(row, phrase):\n",
    "    print(\"Previous info: \" + str(row) + \": \" + phrase)"
   ]
  },
  {
   "cell_type": "code",
   "execution_count": 2,
   "metadata": {},
   "outputs": [],
   "source": [
    "\n",
    "# ------ Random row selection. --------\n",
    "# Declare a variable called \"random_row\" and \n",
    "# set it equal a random integer between 1-75\n",
    "\n",
    "random_row = random.randint(1,75)\n"
   ]
  },
  {
   "cell_type": "code",
   "execution_count": 3,
   "metadata": {},
   "outputs": [],
   "source": [
    "# Declare boolean variable that tracks whether we've found a matching row. Set it to False initially.\n",
    "found = False"
   ]
  },
  {
   "cell_type": "code",
   "execution_count": 4,
   "metadata": {},
   "outputs": [],
   "source": [
    "# Declare variable csvpath and set it to be the path to the Phrases.csv file in the Resources folder\n",
    "csvpath = os.path.join(\"Resources\", \"Phrases.csv\")\n"
   ]
  },
  {
   "cell_type": "code",
   "execution_count": 5,
   "metadata": {},
   "outputs": [
    {
     "name": "stdout",
     "output_type": "stream",
     "text": [
      "Current info: 38: I like movies.\n",
      "Previous info: 37: I like ice cream.\n"
     ]
    }
   ],
   "source": [
    "\n",
    "# Use the path we just defined to open Phrases.csv\n",
    "with open(csvpath, newline=\"\") as csvfile:\n",
    "    \n",
    "    # use the csv reader to parse the file we just opened and store the results in a variable called csvreader\n",
    "    csvreader = csv.reader(csvfile, delimiter=\",\")\n",
    "    \n",
    "    # Create a for loop that iterates through each row in the csvreader.    \n",
    "\n",
    "    for row in csvreader:\n",
    "        \n",
    "        # If the first item in the current row matches the random_row we had previously declared, \n",
    "        # (hint: Row items in a csv are all strings.)\n",
    "        if int(row[0]) == int(random_row):\n",
    "            \n",
    "            # call on the print_info function with both the row number and phrase of the current row. \n",
    "            # (hint: phrase is the 2nd item in the row)\n",
    "            print_info(row[0], row[1])\n",
    "            \n",
    "            # Also call on the print_prev_info function with prev_row_number and prev_phrase. \n",
    "            print_prev_info(prev_row_number, prev_phrase)\n",
    "            \n",
    "            # Update the found variable to true since we have found a matching row\n",
    "            found = True\n",
    "        \n",
    "        # Define a variables called prev_row_number and set it to the current row number      \n",
    "        # Define a variables called prev_phrase and set it to the current row phrase.\n",
    "        # (Because we're about to move onto the next row in the iteration, \n",
    "        # the current row is going to become the previous row for the next loop)\n",
    "        prev_row_number = row[0]\n",
    "        prev_phrase = row[1]\n",
    "\n",
    "        \n",
    "    # Once we have iterated through all the data sets, If the random_row is never found,\n",
    "    # print \"Sorry we couldn't find the row!\" along with the row number we were looking for\n",
    "    if found == False:\n",
    "        print(\"Sorry we couldn't find the row!\")\n",
    "        print(\"You were looking for the number \" + str(random_row))\n",
    "\n",
    "\n"
   ]
  },
  {
   "cell_type": "code",
   "execution_count": null,
   "metadata": {},
   "outputs": [],
   "source": []
  }
 ],
 "metadata": {
  "kernelspec": {
   "display_name": "Python 3",
   "language": "python",
   "name": "python3"
  },
  "language_info": {
   "codemirror_mode": {
    "name": "ipython",
    "version": 3
   },
   "file_extension": ".py",
   "mimetype": "text/x-python",
   "name": "python",
   "nbconvert_exporter": "python",
   "pygments_lexer": "ipython3",
   "version": "3.6.5"
  }
 },
 "nbformat": 4,
 "nbformat_minor": 2
}
