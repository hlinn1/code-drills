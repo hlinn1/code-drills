{
 "cells": [
  {
   "cell_type": "code",
   "execution_count": 6,
   "metadata": {},
   "outputs": [],
   "source": [
    "# Import your dependencies requests and json\n",
    "import requests\n",
    "import json\n",
    "import pprint"
   ]
  },
  {
   "cell_type": "code",
   "execution_count": 8,
   "metadata": {},
   "outputs": [
    {
     "name": "stdout",
     "output_type": "stream",
     "text": [
      "What type of breed? husky\n"
     ]
    }
   ],
   "source": [
    "# Create a variable called dog_search\n",
    "    # Request for user input with the question \"What type of breed?\"\n",
    "        # Example \"husky\" as an input\n",
    "dog_search = input(\"What type of breed? \")\n"
   ]
  },
  {
   "cell_type": "code",
   "execution_count": 9,
   "metadata": {},
   "outputs": [],
   "source": [
    "# Create a variable called query_url\n",
    "    # Add dog_search to the middle of the two strings below \n",
    "    # \"https://dog.ceo/api/breed/\" and \"/images/random\" \n",
    "query_url = \"https://dog.ceo/api/breed/\" + dog_search + \"/images/random\"\n"
   ]
  },
  {
   "cell_type": "code",
   "execution_count": 10,
   "metadata": {},
   "outputs": [
    {
     "name": "stdout",
     "output_type": "stream",
     "text": [
      "https://dog.ceo/api/breed/husky/images/random\n"
     ]
    }
   ],
   "source": [
    "# Print the query_url\n",
    "print(query_url)\n"
   ]
  },
  {
   "cell_type": "code",
   "execution_count": 12,
   "metadata": {},
   "outputs": [
    {
     "name": "stdout",
     "output_type": "stream",
     "text": [
      "{   'message': 'https://images.dog.ceo/breeds/husky/n02110185_7936.jpg',\n",
      "    'status': 'success'}\n"
     ]
    }
   ],
   "source": [
    "# Set the variable 'response' to the data from query_url as a json format\n",
    "response = requests.get(query_url).json()\n",
    "\n",
    "# Print a pretty formatted json.\n",
    "pp = pprint.PrettyPrinter(indent=4)\n",
    "pp.pprint(response)"
   ]
  },
  {
   "cell_type": "code",
   "execution_count": 13,
   "metadata": {},
   "outputs": [
    {
     "name": "stdout",
     "output_type": "stream",
     "text": [
      "https://images.dog.ceo/breeds/husky/n02110185_7936.jpg\n"
     ]
    }
   ],
   "source": [
    "# Print only the dog image url from the json response\n",
    "print(response[\"message\"])"
   ]
  },
  {
   "cell_type": "code",
   "execution_count": null,
   "metadata": {},
   "outputs": [],
   "source": []
  },
  {
   "cell_type": "code",
   "execution_count": null,
   "metadata": {},
   "outputs": [],
   "source": []
  }
 ],
 "metadata": {
  "kernelspec": {
   "display_name": "Python [default]",
   "language": "python",
   "name": "python3"
  },
  "language_info": {
   "codemirror_mode": {
    "name": "ipython",
    "version": 3
   },
   "file_extension": ".py",
   "mimetype": "text/x-python",
   "name": "python",
   "nbconvert_exporter": "python",
   "pygments_lexer": "ipython3",
   "version": "3.6.5"
  }
 },
 "nbformat": 4,
 "nbformat_minor": 2
}
