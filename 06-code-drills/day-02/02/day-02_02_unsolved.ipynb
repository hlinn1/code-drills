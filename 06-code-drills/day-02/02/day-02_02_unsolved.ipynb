{
 "cells": [
  {
   "cell_type": "code",
   "execution_count": 1,
   "metadata": {},
   "outputs": [],
   "source": [
    "# Dependencies requests, pandas as \"pd\", pprint as pprint,\n",
    "    # and your config file for api_key\n",
    "    # Note: For the api_key check the \"App Management\" tab\n",
    "        # You'll want to use the \"Anonymous access OAuth token\" or \"Your personal OAuth token\"\n",
    "\n",
    "import requests\n",
    "import pandas as pd\n",
    "import pprint\n",
    "from config import api_key"
   ]
  },
  {
   "cell_type": "code",
   "execution_count": 2,
   "metadata": {},
   "outputs": [],
   "source": [
    "# Update panda's max column with by reviewing the following documentation.\n",
    "    # This will be important later when dealing with larger columns.\n"
   ]
  },
  {
   "cell_type": "code",
   "execution_count": 7,
   "metadata": {},
   "outputs": [
    {
     "data": {
      "text/plain": [
       "'https://www.eventbriteapi.com/v3/event/search?token=BO4B5MKWBCD43ULEAEID&price=free&location.address=san francisco&q=meetup'"
      ]
     },
     "execution_count": 7,
     "metadata": {},
     "output_type": "execute_result"
    }
   ],
   "source": [
    "# Set the url and query information for eventbrite\n",
    "    # Check out www.eventbriteapi.com to review how to create queries.\n",
    "    # Query for the following information:\n",
    "        # url is \"\"\n",
    "            # Please review documentation to get the base url for searching events.\n",
    "                # https://www.eventbrite.com/developer/v3/quickstart/\n",
    "                # https://www.eventbrite.com/developer/v3/endpoints/events/#ebapi-get-events-search\n",
    "            # If still stuck, check 'hint.txt' for base url\n",
    "        # price is \"free\"\n",
    "        # event's name is \"meetup\"\n",
    "        # location is \"san francisco\"\n",
    "base_url = \"https://www.eventbriteapi.com/v3/event/search?\"\n",
    "price = \"free\"\n",
    "event_name = \"meetup\"\n",
    "location = \"san francisco\"\n",
    "\n",
    "\n",
    "# Build query URL with the parameters mentioned above and api_key.\n",
    "    # Don't forget to check documentation from link mentioned above for event searching.\n",
    "query_url = f\"{base_url}token={api_key}&price={price}&location.address={location}&q={event_name}\"\n",
    "query_url"
   ]
  },
  {
   "cell_type": "code",
   "execution_count": 4,
   "metadata": {},
   "outputs": [],
   "source": [
    "# Create a variable \"response\" \n",
    "    # Set it to the response of the api call converted from json format.\n",
    "\n",
    "\n",
    "# Use pprint to see the beautiful response.\n"
   ]
  },
  {
   "cell_type": "code",
   "execution_count": 5,
   "metadata": {
    "scrolled": true
   },
   "outputs": [],
   "source": [
    "# Create the following variables and set them to empty lists:\n",
    "    # name_list, start_datetime_list, end_datetime_list, url_list\n",
    "\n",
    "    \n",
    "\n",
    "\n",
    "# Loop through each response event and \n",
    "    # append the name, times, and url to the appropriate lists declared above.\n",
    "\n",
    "\n",
    "    \n",
    "\n",
    "# Print one of the lists to verify correct input.\n"
   ]
  },
  {
   "cell_type": "code",
   "execution_count": 6,
   "metadata": {},
   "outputs": [],
   "source": [
    "# Create a variable event_dict and set it to a dictionary for the data frame using \n",
    "    # lists created earlier from name, start date time, end date time, and url\n",
    "\n",
    "    \n",
    "\n",
    "\n",
    "# Create a new variable \"event_data\"\n",
    "    # Set it to a new dataframe by using pandas to create a dataframe from event_dict\n",
    "\n",
    "\n",
    "# Show all rows of event_data\n",
    "\n",
    "\n",
    "# See if there's an interesting event you would like to attend?"
   ]
  },
  {
   "cell_type": "code",
   "execution_count": null,
   "metadata": {},
   "outputs": [],
   "source": []
  }
 ],
 "metadata": {
  "kernelspec": {
   "display_name": "Python [default]",
   "language": "python",
   "name": "python3"
  },
  "language_info": {
   "codemirror_mode": {
    "name": "ipython",
    "version": 3
   },
   "file_extension": ".py",
   "mimetype": "text/x-python",
   "name": "python",
   "nbconvert_exporter": "python",
   "pygments_lexer": "ipython3",
   "version": "3.6.5"
  }
 },
 "nbformat": 4,
 "nbformat_minor": 2
}
