{
 "cells": [
  {
   "cell_type": "code",
   "execution_count": 55,
   "metadata": {},
   "outputs": [],
   "source": [
    "# import the random module\n",
    "# import the module os\n",
    "# import the module csv\n",
    "import random\n",
    "import os\n",
    "import csv\n",
    "\n",
    "# ---- Defining a function with 2 inputs --------\n",
    "# Define a function called print_info that takes in two variables \"row\" and \"phrase\"\n",
    "def print_info(row,phrase):\n",
    "# and prints the string \"Current info\" along with the values of \"row\" and \"phrase\". \n",
    "    print(\"Current info: \" + str(row) + \": \" + str(phrase))\n",
    "# For example, if we call the function:\n",
    "# print_info(\"1\", \"Hello World\")\n",
    "# should print\n",
    "# Current info: 1: Hello World\n",
    "\n",
    "\n",
    "# ---- Defining a function with 2 inputs --------\n",
    "# Define a function called print_prev_info that takes in two variables \"row\" and \"phrase\"\n",
    "def print_prev_info(row,phrase):\n",
    "# and prints the string \"Previous info\" along with the values of \"row\" and \"phrase\". \n",
    "    print(\"Previous info: \" + str(row) + \": \" + str(phrase))\n",
    "# For example, if we call the function:\n",
    "# print_prev_info(\"2\", \"Look at all the Pandas\")\n",
    "# should print\n",
    "# Previous info: 2: Look at all the Pandas\n"
   ]
  },
  {
   "cell_type": "code",
   "execution_count": 56,
   "metadata": {},
   "outputs": [
    {
     "name": "stdout",
     "output_type": "stream",
     "text": [
      "35\n"
     ]
    }
   ],
   "source": [
    "\n",
    "# ------ Random row selection. --------\n",
    "# Declare a variable called \"random_row\" and \n",
    "# set it equal a random integer between 1-75\n",
    "random_row = random.randint(1,75)\n",
    "print(random_row)\n"
   ]
  },
  {
   "cell_type": "code",
   "execution_count": 57,
   "metadata": {},
   "outputs": [],
   "source": [
    "# Declare boolean variable that tracks whether we've found a matching row. Set it to False initially.\n",
    "matching_row = False\n"
   ]
  },
  {
   "cell_type": "code",
   "execution_count": 58,
   "metadata": {},
   "outputs": [],
   "source": [
    "# Declare variable csvpath and set it to be the path to the Phrases.csv file in the Resources folder\n",
    "filepath = os.path.join(\"Resources/Phrases.csv\")\n"
   ]
  },
  {
   "cell_type": "code",
   "execution_count": 60,
   "metadata": {},
   "outputs": [
    {
     "name": "stdout",
     "output_type": "stream",
     "text": [
      "Current info: 35: I like computers.\n",
      "Previous info: 34: I like movies.\n"
     ]
    }
   ],
   "source": [
    "\n",
    "# Use the path we just defined to open Phrases.csv\n",
    "with open(filepath, newline = '') as csvfile:\n",
    "    # use the csv reader to parse the file we just opened and store the results in a variable called csvreader\n",
    "    csvreader = csv.reader(csvfile, delimiter = \",\")\n",
    "    \n",
    "    # Create a for loop that iterates through each row in the csvreader.\n",
    "    for row in csvreader:\n",
    "        # If the first item in the current row matches the random_row we had previously declared, \n",
    "        # (hint: Row items in a csv are all strings.)\n",
    "        if row[0] == str(random_row):\n",
    "        \n",
    "            # call on the print_info function with both the row number and phrase of the current row. \n",
    "            # (hint: phrase is the 2nd item in the row)\n",
    "            print_info(row[0], row[1])\n",
    "            \n",
    "            # Also call on the print_prev_info function with prev_row_number and prev_phrase. \n",
    "            print_prev_info(prev_row_number,prev_phrase)\n",
    "            \n",
    "            # Update the found variable to true since we have found a matching row\n",
    "            matching_row = True\n",
    "        \n",
    "        # Define a variables called prev_row_number and set it to the current row number   \n",
    "        prev_row_number = row[0]\n",
    "        # Define a variables called prev_phrase and set it to the current row phrase.\n",
    "        prev_phrase = row[1]\n",
    "        # (Because we're about to move onto the next row in the iteration, \n",
    "        # the current row is going to become the previous row for the next loop)\n",
    "\n",
    "\n",
    "    # Once we have iterated through all the data sets, If the random_row is never found,\n",
    "    # print \"Sorry we couldn't find the row!\" along with the row number we were looking for\n",
    "    if matching_row == False:\n",
    "        print(\"Sorry we couldn't find the row!\")\n",
    "        print(\"You were looking for the number \" + str(random_row) +\".\")\n",
    "\n",
    "\n"
   ]
  },
  {
   "cell_type": "code",
   "execution_count": null,
   "metadata": {},
   "outputs": [],
   "source": []
  },
  {
   "cell_type": "code",
   "execution_count": null,
   "metadata": {},
   "outputs": [],
   "source": []
  },
  {
   "cell_type": "code",
   "execution_count": null,
   "metadata": {},
   "outputs": [],
   "source": []
  }
 ],
 "metadata": {
  "kernelspec": {
   "display_name": "Python [default]",
   "language": "python",
   "name": "python3"
  },
  "language_info": {
   "codemirror_mode": {
    "name": "ipython",
    "version": 3
   },
   "file_extension": ".py",
   "mimetype": "text/x-python",
   "name": "python",
   "nbconvert_exporter": "python",
   "pygments_lexer": "ipython3",
   "version": "3.6.5"
  }
 },
 "nbformat": 4,
 "nbformat_minor": 2
}
